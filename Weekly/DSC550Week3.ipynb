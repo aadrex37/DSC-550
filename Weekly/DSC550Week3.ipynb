{
 "cells": [
  {
   "cell_type": "code",
   "execution_count": 78,
   "id": "7d2bf20d",
   "metadata": {},
   "outputs": [],
   "source": [
    "##importing different libraries\n",
    "import numpy as np\n",
    "import matplotlib.pyplot as plt\n",
    "import matplotlib.mlab as mlab\n",
    "import matplotlib.pyplot as plt; plt.rcdefaults()\n",
    "import pandas as pd"
   ]
  },
  {
   "cell_type": "code",
   "execution_count": 79,
   "id": "c8439e10",
   "metadata": {},
   "outputs": [
    {
     "name": "stdout",
     "output_type": "stream",
     "text": [
      "Files in '/Users/aarondrexler/Documents/DSC 550': ['.DS_Store', 'txt', 'Untitled.ipynb', 'DSC550Week3.ipynb', 'DSC550week1.ipynb', 'Medals.xlsx', 'DSC 550 Week 2.ipynb', '.ipynb_checkpoints', 'controversial-comments.jsonl']\n"
     ]
    }
   ],
   "source": [
    "import os\n",
    "\n",
    "cwd = os.getcwd()  # Get the current working directory (cwd)\n",
    "files = os.listdir(cwd)  # Get all the files in that directory\n",
    "print(\"Files in %r: %s\" % (cwd, files))"
   ]
  },
  {
   "cell_type": "code",
   "execution_count": 81,
   "id": "f44080d4",
   "metadata": {},
   "outputs": [],
   "source": [
    "medals = pd.read_excel(\"Medals.xlsx\")\n",
    "## imports database"
   ]
  },
  {
   "cell_type": "code",
   "execution_count": 82,
   "id": "9f1a6993",
   "metadata": {},
   "outputs": [],
   "source": [
    "%matplotlib inline\n",
    "## allows matplotlib to run without interupting window"
   ]
  },
  {
   "cell_type": "code",
   "execution_count": 83,
   "id": "5ab2025d",
   "metadata": {},
   "outputs": [
    {
     "data": {
      "text/html": [
       "<div>\n",
       "<style scoped>\n",
       "    .dataframe tbody tr th:only-of-type {\n",
       "        vertical-align: middle;\n",
       "    }\n",
       "\n",
       "    .dataframe tbody tr th {\n",
       "        vertical-align: top;\n",
       "    }\n",
       "\n",
       "    .dataframe thead th {\n",
       "        text-align: right;\n",
       "    }\n",
       "</style>\n",
       "<table border=\"1\" class=\"dataframe\">\n",
       "  <thead>\n",
       "    <tr style=\"text-align: right;\">\n",
       "      <th></th>\n",
       "      <th>Rank</th>\n",
       "      <th>Team/NOC</th>\n",
       "      <th>Gold</th>\n",
       "      <th>Silver</th>\n",
       "      <th>Bronze</th>\n",
       "      <th>Total</th>\n",
       "      <th>Rank by Total</th>\n",
       "    </tr>\n",
       "  </thead>\n",
       "  <tbody>\n",
       "    <tr>\n",
       "      <th>0</th>\n",
       "      <td>1</td>\n",
       "      <td>United States of America</td>\n",
       "      <td>39</td>\n",
       "      <td>41</td>\n",
       "      <td>33</td>\n",
       "      <td>113</td>\n",
       "      <td>1</td>\n",
       "    </tr>\n",
       "    <tr>\n",
       "      <th>1</th>\n",
       "      <td>2</td>\n",
       "      <td>People's Republic of China</td>\n",
       "      <td>38</td>\n",
       "      <td>32</td>\n",
       "      <td>18</td>\n",
       "      <td>88</td>\n",
       "      <td>2</td>\n",
       "    </tr>\n",
       "    <tr>\n",
       "      <th>2</th>\n",
       "      <td>3</td>\n",
       "      <td>Japan</td>\n",
       "      <td>27</td>\n",
       "      <td>14</td>\n",
       "      <td>17</td>\n",
       "      <td>58</td>\n",
       "      <td>5</td>\n",
       "    </tr>\n",
       "    <tr>\n",
       "      <th>3</th>\n",
       "      <td>4</td>\n",
       "      <td>Great Britain</td>\n",
       "      <td>22</td>\n",
       "      <td>21</td>\n",
       "      <td>22</td>\n",
       "      <td>65</td>\n",
       "      <td>4</td>\n",
       "    </tr>\n",
       "    <tr>\n",
       "      <th>4</th>\n",
       "      <td>5</td>\n",
       "      <td>ROC</td>\n",
       "      <td>20</td>\n",
       "      <td>28</td>\n",
       "      <td>23</td>\n",
       "      <td>71</td>\n",
       "      <td>3</td>\n",
       "    </tr>\n",
       "    <tr>\n",
       "      <th>...</th>\n",
       "      <td>...</td>\n",
       "      <td>...</td>\n",
       "      <td>...</td>\n",
       "      <td>...</td>\n",
       "      <td>...</td>\n",
       "      <td>...</td>\n",
       "      <td>...</td>\n",
       "    </tr>\n",
       "    <tr>\n",
       "      <th>88</th>\n",
       "      <td>86</td>\n",
       "      <td>Ghana</td>\n",
       "      <td>0</td>\n",
       "      <td>0</td>\n",
       "      <td>1</td>\n",
       "      <td>1</td>\n",
       "      <td>77</td>\n",
       "    </tr>\n",
       "    <tr>\n",
       "      <th>89</th>\n",
       "      <td>86</td>\n",
       "      <td>Grenada</td>\n",
       "      <td>0</td>\n",
       "      <td>0</td>\n",
       "      <td>1</td>\n",
       "      <td>1</td>\n",
       "      <td>77</td>\n",
       "    </tr>\n",
       "    <tr>\n",
       "      <th>90</th>\n",
       "      <td>86</td>\n",
       "      <td>Kuwait</td>\n",
       "      <td>0</td>\n",
       "      <td>0</td>\n",
       "      <td>1</td>\n",
       "      <td>1</td>\n",
       "      <td>77</td>\n",
       "    </tr>\n",
       "    <tr>\n",
       "      <th>91</th>\n",
       "      <td>86</td>\n",
       "      <td>Republic of Moldova</td>\n",
       "      <td>0</td>\n",
       "      <td>0</td>\n",
       "      <td>1</td>\n",
       "      <td>1</td>\n",
       "      <td>77</td>\n",
       "    </tr>\n",
       "    <tr>\n",
       "      <th>92</th>\n",
       "      <td>86</td>\n",
       "      <td>Syrian Arab Republic</td>\n",
       "      <td>0</td>\n",
       "      <td>0</td>\n",
       "      <td>1</td>\n",
       "      <td>1</td>\n",
       "      <td>77</td>\n",
       "    </tr>\n",
       "  </tbody>\n",
       "</table>\n",
       "<p>93 rows × 7 columns</p>\n",
       "</div>"
      ],
      "text/plain": [
       "    Rank                    Team/NOC  Gold  Silver  Bronze  Total  \\\n",
       "0      1    United States of America    39      41      33    113   \n",
       "1      2  People's Republic of China    38      32      18     88   \n",
       "2      3                       Japan    27      14      17     58   \n",
       "3      4               Great Britain    22      21      22     65   \n",
       "4      5                         ROC    20      28      23     71   \n",
       "..   ...                         ...   ...     ...     ...    ...   \n",
       "88    86                       Ghana     0       0       1      1   \n",
       "89    86                     Grenada     0       0       1      1   \n",
       "90    86                      Kuwait     0       0       1      1   \n",
       "91    86         Republic of Moldova     0       0       1      1   \n",
       "92    86        Syrian Arab Republic     0       0       1      1   \n",
       "\n",
       "    Rank by Total  \n",
       "0               1  \n",
       "1               2  \n",
       "2               5  \n",
       "3               4  \n",
       "4               3  \n",
       "..            ...  \n",
       "88             77  \n",
       "89             77  \n",
       "90             77  \n",
       "91             77  \n",
       "92             77  \n",
       "\n",
       "[93 rows x 7 columns]"
      ]
     },
     "execution_count": 83,
     "metadata": {},
     "output_type": "execute_result"
    }
   ],
   "source": [
    "medals"
   ]
  },
  {
   "cell_type": "code",
   "execution_count": 84,
   "id": "043378ab",
   "metadata": {},
   "outputs": [
    {
     "data": {
      "image/png": "[encoded data removed]",
      "text/plain": [
       "<Figure size 432x288 with 1 Axes>"
      ]
     },
     "metadata": {
      "needs_background": "light"
     },
     "output_type": "display_data"
    }
   ],
   "source": [
    "gold = medals[\"Gold\"] \n",
    "total = medals[\"Total\"] ## creates 1D array of different columns \n",
    "plt.title('Countries Medal Counts')\n",
    "plt.xlabel('Gold Metals')\n",
    "plt.ylabel('Total Medals')## creates title and axis labels\n",
    "plt.plot(gold,total)  \n",
    "plt.show()\n",
    "## creates line plot comparing gold medals to total medals"
   ]
  },
  {
   "cell_type": "code",
   "execution_count": 85,
   "id": "fbb6220e",
   "metadata": {},
   "outputs": [],
   "source": [
    "countries = medals[\"Team/NOC\"] \n",
    "##Countries for the medal count"
   ]
  },
  {
   "cell_type": "code",
   "execution_count": 86,
   "id": "d2c7e9c9",
   "metadata": {},
   "outputs": [
    {
     "data": {
      "text/plain": [
       "0       United States of America\n",
       "1     People's Republic of China\n",
       "2                          Japan\n",
       "3                  Great Britain\n",
       "4                            ROC\n",
       "                 ...            \n",
       "88                         Ghana\n",
       "89                       Grenada\n",
       "90                        Kuwait\n",
       "91           Republic of Moldova\n",
       "92          Syrian Arab Republic\n",
       "Name: Team/NOC, Length: 93, dtype: object"
      ]
     },
     "execution_count": 86,
     "metadata": {},
     "output_type": "execute_result"
    }
   ],
   "source": [
    "countries"
   ]
  },
  {
   "cell_type": "code",
   "execution_count": 87,
   "id": "4ad07cfa",
   "metadata": {},
   "outputs": [
    {
     "data": {
      "image/png": "[encoded data removed]",
      "text/plain": [
       "<Figure size 432x288 with 1 Axes>"
      ]
     },
     "metadata": {
      "needs_background": "light"
     },
     "output_type": "display_data"
    }
   ],
   "source": [
    "plt.bar(countries, gold, color='y')\n",
    "plt.bar(countries, total, bottom=gold, color='g')\n",
    "plt.show()\n",
    "## creates a stacked bar chart with gold medals represented by the gold stack\n",
    "## and the green stack representing total medals\n",
    "##each stack represents different countries"
   ]
  },
  {
   "cell_type": "code",
   "execution_count": 89,
   "id": "2a8e251f",
   "metadata": {},
   "outputs": [],
   "source": [
    "countriesh = medals[\"Team/NOC\"].head()\n",
    "goldh = medals[\"Gold\"].head()\n",
    "totalh = medals[\"Total\"].head() \n",
    "## creates 1D array of different columns and countries but only for the top 5 countries"
   ]
  },
  {
   "cell_type": "code",
   "execution_count": 91,
   "id": "9b2fbbfe",
   "metadata": {},
   "outputs": [
    {
     "data": {
      "image/png": "[encoded data removed]",
      "text/plain": [
       "<Figure size 432x288 with 1 Axes>"
      ]
     },
     "metadata": {
      "needs_background": "light"
     },
     "output_type": "display_data"
    }
   ],
   "source": [
    "plt.bar(countriesh, goldh, color='g')\n",
    "plt.bar(countriesh, totalh, bottom=goldh, color='y')\n",
    "plt.show()\n",
    "##Bar graph of just the top 5 countries "
   ]
  },
  {
   "cell_type": "code",
   "execution_count": null,
   "id": "63fc90ee",
   "metadata": {},
   "outputs": [],
   "source": []
  },
  {
   "cell_type": "code",
   "execution_count": 92,
   "id": "a7a64bda",
   "metadata": {},
   "outputs": [
    {
     "data": {
      "image/png": "[encoded data removed]",
      "text/plain": [
       "<Figure size 432x288 with 1 Axes>"
      ]
     },
     "metadata": {
      "needs_background": "light"
     },
     "output_type": "display_data"
    }
   ],
   "source": [
    "## Plot a scatter plot, with gold medals as x-values and total medals as y-values\n",
    "plt.scatter(gold, total, alpha=0.5)\n",
    "plt.title('Countries Medal Counts')\n",
    "plt.xlabel('Gold Metals')\n",
    "plt.ylabel('Total Medals')\n",
    "plt.show()"
   ]
  },
  {
   "cell_type": "code",
   "execution_count": null,
   "id": "09f7f799",
   "metadata": {},
   "outputs": [],
   "source": []
  },
  {
   "cell_type": "code",
   "execution_count": 93,
   "id": "f0a3655b",
   "metadata": {},
   "outputs": [],
   "source": [
    "##For my graphs, I made 3(and a half) graphs, a line chart, a stacked bar graph, and a scatter plot. \n",
    "##The order that I would put them in from best to worst is as follows:\n",
    "##Scatter Plot, Line Chart, and Stacked bat graph. As to why I put them in this order, \n",
    "##I will explain in in reverse order. First, I put my stacked bar graph last because of issues with labeling. \n",
    "##My data contained 93 data points of countries. "
   ]
  },
  {
   "cell_type": "code",
   "execution_count": 94,
   "id": "70b0aee3",
   "metadata": {},
   "outputs": [],
   "source": [
    "##The bar graph used those countries on the x-axis as a marker for each stack, \n",
    "##but with the limited space, each country written out intersects and overlapes with the other countries’ labels,\n",
    "##making it impossible to read anything on the x-axis label. \n",
    "##I even had to make a graph with just the top 5 countries out of the 93, \n",
    "##and there was still overlap present on the chart. "
   ]
  },
  {
   "cell_type": "code",
   "execution_count": 95,
   "id": "6698cd4d",
   "metadata": {},
   "outputs": [],
   "source": [
    "##Therefore, my stacked bar chart would be the least likely. Next, I created a line chart. \n",
    "##Overall, it did a decent job. The one issue that it did present was with the bottom of the graph. \n",
    "##When you get out of the top performers of the Olympics, most of the remaining countries \n",
    "##cluster around the single digits of medals. On a line graph, it does not go so well when these clusters form, \n",
    "##as the line zig zags and is indistinguishable within the small area of the data cluster. "
   ]
  },
  {
   "cell_type": "code",
   "execution_count": 96,
   "id": "0b515ef6",
   "metadata": {},
   "outputs": [],
   "source": [
    "##Finally, after we consider the line graph and the bar chart, we arrive at our final top choice of a scatter plot.\n",
    "##A scatter plot shows each country as a data point, demonstrating the relationship\n",
    "##between total medal count and gold medal count. In addition to this, \n",
    "##it is able to handle clustering in a way the line graphs simply are unable to achieve. \n",
    "##In this way, we have the visibility and readability that was lacking in the bar chart \n",
    "##and also showing the overall trends, in terms of correlation, association, and overall spread of medal count. "
   ]
  },
  {
   "cell_type": "code",
   "execution_count": null,
   "id": "aadca92d",
   "metadata": {},
   "outputs": [],
   "source": []
  }
 ],
 "metadata": {
  "kernelspec": {
   "display_name": "Python 3",
   "language": "python",
   "name": "python3"
  },
  "language_info": {
   "codemirror_mode": {
    "name": "ipython",
    "version": 3
   },
   "file_extension": ".py",
   "mimetype": "text/x-python",
   "name": "python",
   "nbconvert_exporter": "python",
   "pygments_lexer": "ipython3",
   "version": "3.8.8"
  }
 },
 "nbformat": 4,
 "nbformat_minor": 5
}
